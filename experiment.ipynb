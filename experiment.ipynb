{
 "cells": [
  {
   "cell_type": "code",
   "execution_count": 1,
   "metadata": {},
   "outputs": [],
   "source": [
    "from src.experiment_launcher import ExperimentLauncher"
   ]
  },
  {
   "cell_type": "code",
   "execution_count": 3,
   "metadata": {
    "scrolled": true,
    "tags": []
   },
   "outputs": [
    {
     "data": {
      "text/html": [
       "<div>\n",
       "<style scoped>\n",
       "    .dataframe tbody tr th:only-of-type {\n",
       "        vertical-align: middle;\n",
       "    }\n",
       "\n",
       "    .dataframe tbody tr th {\n",
       "        vertical-align: top;\n",
       "    }\n",
       "\n",
       "    .dataframe thead th {\n",
       "        text-align: right;\n",
       "    }\n",
       "</style>\n",
       "<table border=\"1\" class=\"dataframe\">\n",
       "  <thead>\n",
       "    <tr style=\"text-align: right;\">\n",
       "      <th></th>\n",
       "      <th>mean_squared_error</th>\n",
       "      <th>root_mean_squared_error</th>\n",
       "      <th>mean_absolute_error</th>\n",
       "      <th>mean_absolute_percentage_error</th>\n",
       "      <th>r2</th>\n",
       "      <th>mean_absolute_error_valid</th>\n",
       "      <th>root_mean_squared_error_valid</th>\n",
       "      <th>mean_squared_error_valid</th>\n",
       "      <th>dataset</th>\n",
       "      <th>dataset_name</th>\n",
       "      <th>...</th>\n",
       "      <th>model_params_dropout</th>\n",
       "      <th>model_params_batch_size</th>\n",
       "      <th>model_params_lr</th>\n",
       "      <th>model_params_type</th>\n",
       "      <th>features</th>\n",
       "      <th>selected_features</th>\n",
       "      <th>duration</th>\n",
       "      <th>history</th>\n",
       "      <th>val_loss</th>\n",
       "      <th>code</th>\n",
       "    </tr>\n",
       "  </thead>\n",
       "  <tbody>\n",
       "    <tr>\n",
       "      <th>0</th>\n",
       "      <td>2.822606e+15</td>\n",
       "      <td>5.312820e+07</td>\n",
       "      <td>1.643396e+07</td>\n",
       "      <td>1.025297</td>\n",
       "      <td>0.988921</td>\n",
       "      <td>1.414676e+07</td>\n",
       "      <td>5.079227e+07</td>\n",
       "      <td>2.579854e+15</td>\n",
       "      <td>CIF2016o6</td>\n",
       "      <td>CIF2016o6</td>\n",
       "      <td>...</td>\n",
       "      <td>0.360162</td>\n",
       "      <td>62</td>\n",
       "      <td>0.003093</td>\n",
       "      <td>tensorflow</td>\n",
       "      <td>[target t-6, target t-5, target t-4, target t-...</td>\n",
       "      <td>[]</td>\n",
       "      <td>4.270692</td>\n",
       "      <td>[2.9850432872772217, 2.934068202972412, 2.8852...</td>\n",
       "      <td>1.620986</td>\n",
       "      <td>8b0d1723423d0094e6879d35ab7e127a</td>\n",
       "    </tr>\n",
       "  </tbody>\n",
       "</table>\n",
       "<p>1 rows × 30 columns</p>\n",
       "</div>"
      ],
      "text/plain": [
       "   mean_squared_error  root_mean_squared_error  mean_absolute_error  \\\n",
       "0        2.822606e+15             5.312820e+07         1.643396e+07   \n",
       "\n",
       "   mean_absolute_percentage_error        r2  mean_absolute_error_valid  \\\n",
       "0                        1.025297  0.988921               1.414676e+07   \n",
       "\n",
       "   root_mean_squared_error_valid  mean_squared_error_valid    dataset  \\\n",
       "0                   5.079227e+07              2.579854e+15  CIF2016o6   \n",
       "\n",
       "  dataset_name  ...  model_params_dropout  model_params_batch_size  \\\n",
       "0    CIF2016o6  ...              0.360162                       62   \n",
       "\n",
       "   model_params_lr  model_params_type  \\\n",
       "0         0.003093         tensorflow   \n",
       "\n",
       "                                            features selected_features  \\\n",
       "0  [target t-6, target t-5, target t-4, target t-...                []   \n",
       "\n",
       "   duration                                            history  val_loss  \\\n",
       "0  4.270692  [2.9850432872772217, 2.934068202972412, 2.8852...  1.620986   \n",
       "\n",
       "                               code  \n",
       "0  8b0d1723423d0094e6879d35ab7e127a  \n",
       "\n",
       "[1 rows x 30 columns]"
      ]
     },
     "metadata": {},
     "output_type": "display_data"
    },
    {
     "ename": "OSError",
     "evalue": "Cannot save file into a non-existent directory: 'results\\ResSelNet'",
     "output_type": "error",
     "traceback": [
      "\u001b[1;31m---------------------------------------------------------------------------\u001b[0m",
      "\u001b[1;31mOSError\u001b[0m                                   Traceback (most recent call last)",
      "\u001b[1;32me:\\Proyectos\\ResSelNet\\experiment.ipynb Cell 2\u001b[0m line \u001b[0;36m<cell line: 3>\u001b[1;34m()\u001b[0m\n\u001b[0;32m      <a href='vscode-notebook-cell:/e%3A/Proyectos/ResSelNet/experiment.ipynb#W1sZmlsZQ%3D%3D?line=0'>1</a>\u001b[0m config_path \u001b[39m=\u001b[39m \u001b[39m'\u001b[39m\u001b[39mconfiguration/ResSelNet/\u001b[39m\u001b[39m'\u001b[39m\n\u001b[0;32m      <a href='vscode-notebook-cell:/e%3A/Proyectos/ResSelNet/experiment.ipynb#W1sZmlsZQ%3D%3D?line=1'>2</a>\u001b[0m experiment_launcher \u001b[39m=\u001b[39m ExperimentLauncher(config_path, save_file\u001b[39m=\u001b[39m\u001b[39m'\u001b[39m\u001b[39mresults/ResSelNet/results_test.csv\u001b[39m\u001b[39m'\u001b[39m, search_type\u001b[39m=\u001b[39m\u001b[39m'\u001b[39m\u001b[39mbayesian\u001b[39m\u001b[39m'\u001b[39m, iterations\u001b[39m=\u001b[39m\u001b[39m25\u001b[39m)\n\u001b[1;32m----> <a href='vscode-notebook-cell:/e%3A/Proyectos/ResSelNet/experiment.ipynb#W1sZmlsZQ%3D%3D?line=2'>3</a>\u001b[0m experiment_launcher\u001b[39m.\u001b[39;49mrun()\n",
      "File \u001b[1;32me:\\Proyectos\\ResSelNet\\src\\experiment.py:537\u001b[0m, in \u001b[0;36mExperimentLauncher.run\u001b[1;34m(self)\u001b[0m\n\u001b[0;32m    535\u001b[0m         clear_output(wait\u001b[39m=\u001b[39m\u001b[39mTrue\u001b[39;00m)\n\u001b[0;32m    536\u001b[0m         display(\u001b[39mself\u001b[39m\u001b[39m.\u001b[39mmetrics)\n\u001b[1;32m--> 537\u001b[0m         \u001b[39mself\u001b[39;49m\u001b[39m.\u001b[39;49mmetrics\u001b[39m.\u001b[39;49mto_csv(\u001b[39mself\u001b[39;49m\u001b[39m.\u001b[39;49msave_file, index\u001b[39m=\u001b[39;49m\u001b[39mNone\u001b[39;49;00m)\n\u001b[0;32m    539\u001b[0m \u001b[39mreturn\u001b[39;00m \u001b[39mself\u001b[39m\u001b[39m.\u001b[39mmetrics\n",
      "File \u001b[1;32me:\\Archivos de programas\\anaconda3\\envs\\tf\\lib\\site-packages\\pandas\\core\\generic.py:3563\u001b[0m, in \u001b[0;36mNDFrame.to_csv\u001b[1;34m(self, path_or_buf, sep, na_rep, float_format, columns, header, index, index_label, mode, encoding, compression, quoting, quotechar, line_terminator, chunksize, date_format, doublequote, escapechar, decimal, errors, storage_options)\u001b[0m\n\u001b[0;32m   3552\u001b[0m df \u001b[39m=\u001b[39m \u001b[39mself\u001b[39m \u001b[39mif\u001b[39;00m \u001b[39misinstance\u001b[39m(\u001b[39mself\u001b[39m, ABCDataFrame) \u001b[39melse\u001b[39;00m \u001b[39mself\u001b[39m\u001b[39m.\u001b[39mto_frame()\n\u001b[0;32m   3554\u001b[0m formatter \u001b[39m=\u001b[39m DataFrameFormatter(\n\u001b[0;32m   3555\u001b[0m     frame\u001b[39m=\u001b[39mdf,\n\u001b[0;32m   3556\u001b[0m     header\u001b[39m=\u001b[39mheader,\n\u001b[1;32m   (...)\u001b[0m\n\u001b[0;32m   3560\u001b[0m     decimal\u001b[39m=\u001b[39mdecimal,\n\u001b[0;32m   3561\u001b[0m )\n\u001b[1;32m-> 3563\u001b[0m \u001b[39mreturn\u001b[39;00m DataFrameRenderer(formatter)\u001b[39m.\u001b[39;49mto_csv(\n\u001b[0;32m   3564\u001b[0m     path_or_buf,\n\u001b[0;32m   3565\u001b[0m     line_terminator\u001b[39m=\u001b[39;49mline_terminator,\n\u001b[0;32m   3566\u001b[0m     sep\u001b[39m=\u001b[39;49msep,\n\u001b[0;32m   3567\u001b[0m     encoding\u001b[39m=\u001b[39;49mencoding,\n\u001b[0;32m   3568\u001b[0m     errors\u001b[39m=\u001b[39;49merrors,\n\u001b[0;32m   3569\u001b[0m     compression\u001b[39m=\u001b[39;49mcompression,\n\u001b[0;32m   3570\u001b[0m     quoting\u001b[39m=\u001b[39;49mquoting,\n\u001b[0;32m   3571\u001b[0m     columns\u001b[39m=\u001b[39;49mcolumns,\n\u001b[0;32m   3572\u001b[0m     index_label\u001b[39m=\u001b[39;49mindex_label,\n\u001b[0;32m   3573\u001b[0m     mode\u001b[39m=\u001b[39;49mmode,\n\u001b[0;32m   3574\u001b[0m     chunksize\u001b[39m=\u001b[39;49mchunksize,\n\u001b[0;32m   3575\u001b[0m     quotechar\u001b[39m=\u001b[39;49mquotechar,\n\u001b[0;32m   3576\u001b[0m     date_format\u001b[39m=\u001b[39;49mdate_format,\n\u001b[0;32m   3577\u001b[0m     doublequote\u001b[39m=\u001b[39;49mdoublequote,\n\u001b[0;32m   3578\u001b[0m     escapechar\u001b[39m=\u001b[39;49mescapechar,\n\u001b[0;32m   3579\u001b[0m     storage_options\u001b[39m=\u001b[39;49mstorage_options,\n\u001b[0;32m   3580\u001b[0m )\n",
      "File \u001b[1;32me:\\Archivos de programas\\anaconda3\\envs\\tf\\lib\\site-packages\\pandas\\io\\formats\\format.py:1180\u001b[0m, in \u001b[0;36mDataFrameRenderer.to_csv\u001b[1;34m(self, path_or_buf, encoding, sep, columns, index_label, mode, compression, quoting, quotechar, line_terminator, chunksize, date_format, doublequote, escapechar, errors, storage_options)\u001b[0m\n\u001b[0;32m   1159\u001b[0m     created_buffer \u001b[39m=\u001b[39m \u001b[39mFalse\u001b[39;00m\n\u001b[0;32m   1161\u001b[0m csv_formatter \u001b[39m=\u001b[39m CSVFormatter(\n\u001b[0;32m   1162\u001b[0m     path_or_buf\u001b[39m=\u001b[39mpath_or_buf,\n\u001b[0;32m   1163\u001b[0m     line_terminator\u001b[39m=\u001b[39mline_terminator,\n\u001b[1;32m   (...)\u001b[0m\n\u001b[0;32m   1178\u001b[0m     formatter\u001b[39m=\u001b[39m\u001b[39mself\u001b[39m\u001b[39m.\u001b[39mfmt,\n\u001b[0;32m   1179\u001b[0m )\n\u001b[1;32m-> 1180\u001b[0m csv_formatter\u001b[39m.\u001b[39;49msave()\n\u001b[0;32m   1182\u001b[0m \u001b[39mif\u001b[39;00m created_buffer:\n\u001b[0;32m   1183\u001b[0m     \u001b[39massert\u001b[39;00m \u001b[39misinstance\u001b[39m(path_or_buf, StringIO)\n",
      "File \u001b[1;32me:\\Archivos de programas\\anaconda3\\envs\\tf\\lib\\site-packages\\pandas\\io\\formats\\csvs.py:241\u001b[0m, in \u001b[0;36mCSVFormatter.save\u001b[1;34m(self)\u001b[0m\n\u001b[0;32m    237\u001b[0m \u001b[39m\"\"\"\u001b[39;00m\n\u001b[0;32m    238\u001b[0m \u001b[39mCreate the writer & save.\u001b[39;00m\n\u001b[0;32m    239\u001b[0m \u001b[39m\"\"\"\u001b[39;00m\n\u001b[0;32m    240\u001b[0m \u001b[39m# apply compression and byte/text conversion\u001b[39;00m\n\u001b[1;32m--> 241\u001b[0m \u001b[39mwith\u001b[39;00m get_handle(\n\u001b[0;32m    242\u001b[0m     \u001b[39mself\u001b[39;49m\u001b[39m.\u001b[39;49mfilepath_or_buffer,\n\u001b[0;32m    243\u001b[0m     \u001b[39mself\u001b[39;49m\u001b[39m.\u001b[39;49mmode,\n\u001b[0;32m    244\u001b[0m     encoding\u001b[39m=\u001b[39;49m\u001b[39mself\u001b[39;49m\u001b[39m.\u001b[39;49mencoding,\n\u001b[0;32m    245\u001b[0m     errors\u001b[39m=\u001b[39;49m\u001b[39mself\u001b[39;49m\u001b[39m.\u001b[39;49merrors,\n\u001b[0;32m    246\u001b[0m     compression\u001b[39m=\u001b[39;49m\u001b[39mself\u001b[39;49m\u001b[39m.\u001b[39;49mcompression,\n\u001b[0;32m    247\u001b[0m     storage_options\u001b[39m=\u001b[39;49m\u001b[39mself\u001b[39;49m\u001b[39m.\u001b[39;49mstorage_options,\n\u001b[0;32m    248\u001b[0m ) \u001b[39mas\u001b[39;00m handles:\n\u001b[0;32m    249\u001b[0m \n\u001b[0;32m    250\u001b[0m     \u001b[39m# Note: self.encoding is irrelevant here\u001b[39;00m\n\u001b[0;32m    251\u001b[0m     \u001b[39mself\u001b[39m\u001b[39m.\u001b[39mwriter \u001b[39m=\u001b[39m csvlib\u001b[39m.\u001b[39mwriter(\n\u001b[0;32m    252\u001b[0m         handles\u001b[39m.\u001b[39mhandle,\n\u001b[0;32m    253\u001b[0m         lineterminator\u001b[39m=\u001b[39m\u001b[39mself\u001b[39m\u001b[39m.\u001b[39mline_terminator,\n\u001b[1;32m   (...)\u001b[0m\n\u001b[0;32m    258\u001b[0m         quotechar\u001b[39m=\u001b[39m\u001b[39mself\u001b[39m\u001b[39m.\u001b[39mquotechar,\n\u001b[0;32m    259\u001b[0m     )\n\u001b[0;32m    261\u001b[0m     \u001b[39mself\u001b[39m\u001b[39m.\u001b[39m_save()\n",
      "File \u001b[1;32me:\\Archivos de programas\\anaconda3\\envs\\tf\\lib\\site-packages\\pandas\\io\\common.py:697\u001b[0m, in \u001b[0;36mget_handle\u001b[1;34m(path_or_buf, mode, encoding, compression, memory_map, is_text, errors, storage_options)\u001b[0m\n\u001b[0;32m    695\u001b[0m \u001b[39m# Only for write methods\u001b[39;00m\n\u001b[0;32m    696\u001b[0m \u001b[39mif\u001b[39;00m \u001b[39m\"\u001b[39m\u001b[39mr\u001b[39m\u001b[39m\"\u001b[39m \u001b[39mnot\u001b[39;00m \u001b[39min\u001b[39;00m mode \u001b[39mand\u001b[39;00m is_path:\n\u001b[1;32m--> 697\u001b[0m     check_parent_directory(\u001b[39mstr\u001b[39;49m(handle))\n\u001b[0;32m    699\u001b[0m \u001b[39mif\u001b[39;00m compression:\n\u001b[0;32m    700\u001b[0m     \u001b[39mif\u001b[39;00m compression \u001b[39m!=\u001b[39m \u001b[39m\"\u001b[39m\u001b[39mzstd\u001b[39m\u001b[39m\"\u001b[39m:\n\u001b[0;32m    701\u001b[0m         \u001b[39m# compression libraries do not like an explicit text-mode\u001b[39;00m\n",
      "File \u001b[1;32me:\\Archivos de programas\\anaconda3\\envs\\tf\\lib\\site-packages\\pandas\\io\\common.py:571\u001b[0m, in \u001b[0;36mcheck_parent_directory\u001b[1;34m(path)\u001b[0m\n\u001b[0;32m    569\u001b[0m parent \u001b[39m=\u001b[39m Path(path)\u001b[39m.\u001b[39mparent\n\u001b[0;32m    570\u001b[0m \u001b[39mif\u001b[39;00m \u001b[39mnot\u001b[39;00m parent\u001b[39m.\u001b[39mis_dir():\n\u001b[1;32m--> 571\u001b[0m     \u001b[39mraise\u001b[39;00m \u001b[39mOSError\u001b[39;00m(\u001b[39mfr\u001b[39m\u001b[39m\"\u001b[39m\u001b[39mCannot save file into a non-existent directory: \u001b[39m\u001b[39m'\u001b[39m\u001b[39m{\u001b[39;00mparent\u001b[39m}\u001b[39;00m\u001b[39m'\u001b[39m\u001b[39m\"\u001b[39m)\n",
      "\u001b[1;31mOSError\u001b[0m: Cannot save file into a non-existent directory: 'results\\ResSelNet'"
     ]
    }
   ],
   "source": [
    "config_path = 'configuration/ResSelNet/'\n",
    "experiment_launcher = ExperimentLauncher(config_path, save_file='results/ResSelNet/results_test.csv', search_type='bayesian', iterations=25)\n",
    "experiment_launcher.run()"
   ]
  },
  {
   "cell_type": "code",
   "execution_count": null,
   "metadata": {},
   "outputs": [],
   "source": []
  }
 ],
 "metadata": {
  "kernelspec": {
   "display_name": "Python 3 (ipykernel)",
   "language": "python",
   "name": "python3"
  },
  "language_info": {
   "codemirror_mode": {
    "name": "ipython",
    "version": 3
   },
   "file_extension": ".py",
   "mimetype": "text/x-python",
   "name": "python",
   "nbconvert_exporter": "python",
   "pygments_lexer": "ipython3",
   "version": "3.8.13"
  },
  "vscode": {
   "interpreter": {
    "hash": "22807ea436e6cdae465455f971bf54617413f450d50428723b8098b2ed287910"
   }
  }
 },
 "nbformat": 4,
 "nbformat_minor": 4
}
